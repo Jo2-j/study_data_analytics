{
 "cells": [
  {
   "cell_type": "markdown",
   "metadata": {},
   "source": [
    "제안 1: 고객 충성도 예측\n",
    "- 문제 정의: 고객의 계약 유형, 연체 기록, 신용 등급, 마일리지 등을 바탕으로 고객의 충성도(예: 장기 계약 유지 여부)를 예측합니다.\n",
    "- 배경: 충성도 높은 고객을 식별하여 타겟 마케팅 전략을 수립하고, 서비스 개선을 통해 고객 유지율을 높일 수 있습니다.\n"
   ]
  },
  {
   "cell_type": "code",
   "execution_count": 1,
   "metadata": {},
   "outputs": [],
   "source": [
    "# channel\n",
    "# Term\n",
    "# product\n",
    "# amount\n",
    "# age\n",
    "# Mileage"
   ]
  },
  {
   "cell_type": "code",
   "execution_count": 2,
   "metadata": {},
   "outputs": [
    {
     "data": {
      "text/html": [
       "<div>\n",
       "<style scoped>\n",
       "    .dataframe tbody tr th:only-of-type {\n",
       "        vertical-align: middle;\n",
       "    }\n",
       "\n",
       "    .dataframe tbody tr th {\n",
       "        vertical-align: top;\n",
       "    }\n",
       "\n",
       "    .dataframe thead th {\n",
       "        text-align: right;\n",
       "    }\n",
       "</style>\n",
       "<table border=\"1\" class=\"dataframe\">\n",
       "  <thead>\n",
       "    <tr style=\"text-align: right;\">\n",
       "      <th></th>\n",
       "      <th>id</th>\n",
       "      <th>type_of_contract</th>\n",
       "      <th>type_of_contract2</th>\n",
       "      <th>channel</th>\n",
       "      <th>datetime</th>\n",
       "      <th>Term</th>\n",
       "      <th>payment_type</th>\n",
       "      <th>product</th>\n",
       "      <th>amount</th>\n",
       "      <th>state</th>\n",
       "      <th>overdue_count</th>\n",
       "      <th>overdue</th>\n",
       "      <th>credit rating</th>\n",
       "      <th>bank</th>\n",
       "      <th>cancellation</th>\n",
       "      <th>age</th>\n",
       "      <th>Mileage</th>\n",
       "    </tr>\n",
       "  </thead>\n",
       "  <tbody>\n",
       "    <tr>\n",
       "      <th>0</th>\n",
       "      <td>66758234</td>\n",
       "      <td>렌탈</td>\n",
       "      <td>Normal</td>\n",
       "      <td>서비스 방문</td>\n",
       "      <td>2019-10-20</td>\n",
       "      <td>60</td>\n",
       "      <td>CMS</td>\n",
       "      <td>K1</td>\n",
       "      <td>96900</td>\n",
       "      <td>계약확정</td>\n",
       "      <td>0</td>\n",
       "      <td>없음</td>\n",
       "      <td>9.0</td>\n",
       "      <td>새마을금고</td>\n",
       "      <td>정상</td>\n",
       "      <td>43.0</td>\n",
       "      <td>1862.0</td>\n",
       "    </tr>\n",
       "    <tr>\n",
       "      <th>1</th>\n",
       "      <td>66755948</td>\n",
       "      <td>렌탈</td>\n",
       "      <td>Extension_Rental</td>\n",
       "      <td>서비스 방문</td>\n",
       "      <td>2019-10-20</td>\n",
       "      <td>60</td>\n",
       "      <td>카드이체</td>\n",
       "      <td>K1</td>\n",
       "      <td>102900</td>\n",
       "      <td>계약확정</td>\n",
       "      <td>0</td>\n",
       "      <td>없음</td>\n",
       "      <td>2.0</td>\n",
       "      <td>현대카드</td>\n",
       "      <td>정상</td>\n",
       "      <td>62.0</td>\n",
       "      <td>2532.0</td>\n",
       "    </tr>\n",
       "    <tr>\n",
       "      <th>2</th>\n",
       "      <td>66756657</td>\n",
       "      <td>렌탈</td>\n",
       "      <td>Normal</td>\n",
       "      <td>홈쇼핑/방송</td>\n",
       "      <td>2019-10-20</td>\n",
       "      <td>60</td>\n",
       "      <td>CMS</td>\n",
       "      <td>K1</td>\n",
       "      <td>96900</td>\n",
       "      <td>계약확정</td>\n",
       "      <td>0</td>\n",
       "      <td>없음</td>\n",
       "      <td>8.0</td>\n",
       "      <td>우리은행</td>\n",
       "      <td>정상</td>\n",
       "      <td>60.0</td>\n",
       "      <td>2363.0</td>\n",
       "    </tr>\n",
       "    <tr>\n",
       "      <th>3</th>\n",
       "      <td>66423450</td>\n",
       "      <td>멤버십</td>\n",
       "      <td>TAS</td>\n",
       "      <td>렌탈재계약</td>\n",
       "      <td>2019-10-20</td>\n",
       "      <td>12</td>\n",
       "      <td>CMS</td>\n",
       "      <td>K1</td>\n",
       "      <td>66900</td>\n",
       "      <td>계약확정</td>\n",
       "      <td>0</td>\n",
       "      <td>없음</td>\n",
       "      <td>5.0</td>\n",
       "      <td>농협은행</td>\n",
       "      <td>정상</td>\n",
       "      <td>60.0</td>\n",
       "      <td>2449.0</td>\n",
       "    </tr>\n",
       "    <tr>\n",
       "      <th>4</th>\n",
       "      <td>66423204</td>\n",
       "      <td>멤버십</td>\n",
       "      <td>TAS</td>\n",
       "      <td>렌탈재계약</td>\n",
       "      <td>2019-10-20</td>\n",
       "      <td>12</td>\n",
       "      <td>CMS</td>\n",
       "      <td>K1</td>\n",
       "      <td>66900</td>\n",
       "      <td>해약확정</td>\n",
       "      <td>12</td>\n",
       "      <td>있음</td>\n",
       "      <td>8.0</td>\n",
       "      <td>농협은행</td>\n",
       "      <td>해약</td>\n",
       "      <td>51.0</td>\n",
       "      <td>1942.0</td>\n",
       "    </tr>\n",
       "  </tbody>\n",
       "</table>\n",
       "</div>"
      ],
      "text/plain": [
       "         id type_of_contract type_of_contract2 channel    datetime  Term  \\\n",
       "0  66758234               렌탈            Normal  서비스 방문  2019-10-20    60   \n",
       "1  66755948               렌탈  Extension_Rental  서비스 방문  2019-10-20    60   \n",
       "2  66756657               렌탈            Normal  홈쇼핑/방송  2019-10-20    60   \n",
       "3  66423450              멤버십               TAS   렌탈재계약  2019-10-20    12   \n",
       "4  66423204              멤버십               TAS   렌탈재계약  2019-10-20    12   \n",
       "\n",
       "  payment_type product  amount state  overdue_count overdue  credit rating  \\\n",
       "0          CMS      K1   96900  계약확정              0      없음            9.0   \n",
       "1         카드이체      K1  102900  계약확정              0      없음            2.0   \n",
       "2          CMS      K1   96900  계약확정              0      없음            8.0   \n",
       "3          CMS      K1   66900  계약확정              0      없음            5.0   \n",
       "4          CMS      K1   66900  해약확정             12      있음            8.0   \n",
       "\n",
       "    bank cancellation   age  Mileage  \n",
       "0  새마을금고           정상  43.0   1862.0  \n",
       "1   현대카드           정상  62.0   2532.0  \n",
       "2   우리은행           정상  60.0   2363.0  \n",
       "3   농협은행           정상  60.0   2449.0  \n",
       "4   농협은행           해약  51.0   1942.0  "
      ]
     },
     "execution_count": 2,
     "metadata": {},
     "output_type": "execute_result"
    }
   ],
   "source": [
    "import matplotlib.pyplot as plt\n",
    "import matplotlib as mpl # 한글 폰트 설정 (NanumGothic) \n",
    "mpl.rcParams['font.family'] = 'NanumGothic'\n",
    "mpl.rcParams['axes.unicode_minus'] = False  # 마이너스 기호 깨짐 방지\n",
    "import pandas as pd \n",
    "rentAcar = pd.read_csv('../../datasets/LetalCarOfContractType.csv')\n",
    "rentAcar.head()"
   ]
  },
  {
   "cell_type": "code",
   "execution_count": 3,
   "metadata": {},
   "outputs": [
    {
     "data": {
      "text/html": [
       "<div>\n",
       "<style scoped>\n",
       "    .dataframe tbody tr th:only-of-type {\n",
       "        vertical-align: middle;\n",
       "    }\n",
       "\n",
       "    .dataframe tbody tr th {\n",
       "        vertical-align: top;\n",
       "    }\n",
       "\n",
       "    .dataframe thead th {\n",
       "        text-align: right;\n",
       "    }\n",
       "</style>\n",
       "<table border=\"1\" class=\"dataframe\">\n",
       "  <thead>\n",
       "    <tr style=\"text-align: right;\">\n",
       "      <th></th>\n",
       "      <th>type_of_contract</th>\n",
       "      <th>channel</th>\n",
       "      <th>Term</th>\n",
       "      <th>product</th>\n",
       "      <th>amount</th>\n",
       "      <th>state</th>\n",
       "      <th>credit rating</th>\n",
       "      <th>cancellation</th>\n",
       "      <th>age</th>\n",
       "      <th>Mileage</th>\n",
       "    </tr>\n",
       "  </thead>\n",
       "  <tbody>\n",
       "    <tr>\n",
       "      <th>0</th>\n",
       "      <td>렌탈</td>\n",
       "      <td>서비스 방문</td>\n",
       "      <td>60</td>\n",
       "      <td>K1</td>\n",
       "      <td>96900</td>\n",
       "      <td>계약확정</td>\n",
       "      <td>9.0</td>\n",
       "      <td>정상</td>\n",
       "      <td>43.0</td>\n",
       "      <td>1862.0</td>\n",
       "    </tr>\n",
       "    <tr>\n",
       "      <th>1</th>\n",
       "      <td>렌탈</td>\n",
       "      <td>서비스 방문</td>\n",
       "      <td>60</td>\n",
       "      <td>K1</td>\n",
       "      <td>102900</td>\n",
       "      <td>계약확정</td>\n",
       "      <td>2.0</td>\n",
       "      <td>정상</td>\n",
       "      <td>62.0</td>\n",
       "      <td>2532.0</td>\n",
       "    </tr>\n",
       "    <tr>\n",
       "      <th>2</th>\n",
       "      <td>렌탈</td>\n",
       "      <td>홈쇼핑/방송</td>\n",
       "      <td>60</td>\n",
       "      <td>K1</td>\n",
       "      <td>96900</td>\n",
       "      <td>계약확정</td>\n",
       "      <td>8.0</td>\n",
       "      <td>정상</td>\n",
       "      <td>60.0</td>\n",
       "      <td>2363.0</td>\n",
       "    </tr>\n",
       "    <tr>\n",
       "      <th>3</th>\n",
       "      <td>멤버십</td>\n",
       "      <td>렌탈재계약</td>\n",
       "      <td>12</td>\n",
       "      <td>K1</td>\n",
       "      <td>66900</td>\n",
       "      <td>계약확정</td>\n",
       "      <td>5.0</td>\n",
       "      <td>정상</td>\n",
       "      <td>60.0</td>\n",
       "      <td>2449.0</td>\n",
       "    </tr>\n",
       "    <tr>\n",
       "      <th>4</th>\n",
       "      <td>멤버십</td>\n",
       "      <td>렌탈재계약</td>\n",
       "      <td>12</td>\n",
       "      <td>K1</td>\n",
       "      <td>66900</td>\n",
       "      <td>해약확정</td>\n",
       "      <td>8.0</td>\n",
       "      <td>해약</td>\n",
       "      <td>51.0</td>\n",
       "      <td>1942.0</td>\n",
       "    </tr>\n",
       "  </tbody>\n",
       "</table>\n",
       "</div>"
      ],
      "text/plain": [
       "  type_of_contract channel  Term product  amount state  credit rating  \\\n",
       "0               렌탈  서비스 방문    60      K1   96900  계약확정            9.0   \n",
       "1               렌탈  서비스 방문    60      K1  102900  계약확정            2.0   \n",
       "2               렌탈  홈쇼핑/방송    60      K1   96900  계약확정            8.0   \n",
       "3              멤버십   렌탈재계약    12      K1   66900  계약확정            5.0   \n",
       "4              멤버십   렌탈재계약    12      K1   66900  해약확정            8.0   \n",
       "\n",
       "  cancellation   age  Mileage  \n",
       "0           정상  43.0   1862.0  \n",
       "1           정상  62.0   2532.0  \n",
       "2           정상  60.0   2363.0  \n",
       "3           정상  60.0   2449.0  \n",
       "4           해약  51.0   1942.0  "
      ]
     },
     "execution_count": 3,
     "metadata": {},
     "output_type": "execute_result"
    }
   ],
   "source": [
    "# rentAcar.info()\n",
    "# iloc을 사용하여 위치 기반으로 선택\n",
    "editCol = rentAcar.iloc[:, [1, 3, 5, 7, 8, 9, 12, 14, 15, 16]]\n",
    "editCol.head()"
   ]
  },
  {
   "cell_type": "code",
   "execution_count": 4,
   "metadata": {},
   "outputs": [
    {
     "data": {
      "text/plain": [
       "array(['렌탈', '멤버십', nan], dtype=object)"
      ]
     },
     "execution_count": 4,
     "metadata": {},
     "output_type": "execute_result"
    }
   ],
   "source": [
    "editCol['type_of_contract'].unique()"
   ]
  },
  {
   "cell_type": "code",
   "execution_count": 5,
   "metadata": {},
   "outputs": [
    {
     "data": {
      "text/plain": [
       "array(['서비스 방문', '홈쇼핑/방송', '렌탈재계약', '렌탈총판', '전자랜드', '홈플러스', '일반', '영업방판',\n",
       "       '하이마트', '이마트', '홈쇼핑/인터넷', 'R빌리미', 'R유통사', 'R인터넷', 'R관리방판',\n",
       "       'R농협인터넷몰', 'R농협', 'R법인', 'R렌탈운영', 'R법인그룹'], dtype=object)"
      ]
     },
     "execution_count": 5,
     "metadata": {},
     "output_type": "execute_result"
    }
   ],
   "source": [
    "editCol['channel'].unique()"
   ]
  },
  {
   "cell_type": "code",
   "execution_count": 6,
   "metadata": {},
   "outputs": [
    {
     "data": {
      "text/plain": [
       "array([60, 12, 36, 39])"
      ]
     },
     "execution_count": 6,
     "metadata": {},
     "output_type": "execute_result"
    }
   ],
   "source": [
    "editCol['Term'].unique()"
   ]
  },
  {
   "cell_type": "code",
   "execution_count": 7,
   "metadata": {},
   "outputs": [
    {
     "data": {
      "text/plain": [
       "array(['K1', 'K3', 'K2', 'K4', 'K6', nan, 'K5'], dtype=object)"
      ]
     },
     "execution_count": 7,
     "metadata": {},
     "output_type": "execute_result"
    }
   ],
   "source": [
    "editCol['product'].unique()"
   ]
  },
  {
   "cell_type": "code",
   "execution_count": 8,
   "metadata": {},
   "outputs": [],
   "source": [
    "# editCol['amount'].unique()"
   ]
  },
  {
   "cell_type": "code",
   "execution_count": 9,
   "metadata": {},
   "outputs": [
    {
     "data": {
      "text/plain": [
       "array(['계약확정', '해약확정', '기간만료', '해약진행중'], dtype=object)"
      ]
     },
     "execution_count": 9,
     "metadata": {},
     "output_type": "execute_result"
    }
   ],
   "source": [
    "editCol['state'].unique()"
   ]
  },
  {
   "cell_type": "code",
   "execution_count": 10,
   "metadata": {},
   "outputs": [
    {
     "data": {
      "text/plain": [
       "array([ 9.,  2.,  8.,  5.,  1.,  7., nan,  3.,  6.,  4., 10.,  0.])"
      ]
     },
     "execution_count": 10,
     "metadata": {},
     "output_type": "execute_result"
    }
   ],
   "source": [
    "editCol['credit rating'].unique()"
   ]
  },
  {
   "cell_type": "code",
   "execution_count": 11,
   "metadata": {},
   "outputs": [
    {
     "data": {
      "text/plain": [
       "array(['정상', '해약', nan], dtype=object)"
      ]
     },
     "execution_count": 11,
     "metadata": {},
     "output_type": "execute_result"
    }
   ],
   "source": [
    "editCol['cancellation'].unique()"
   ]
  },
  {
   "cell_type": "code",
   "execution_count": 12,
   "metadata": {},
   "outputs": [],
   "source": [
    "# editCol['age'].unique()"
   ]
  },
  {
   "cell_type": "code",
   "execution_count": 13,
   "metadata": {},
   "outputs": [],
   "source": [
    "# editCol['Mileage'].unique()"
   ]
  },
  {
   "cell_type": "code",
   "execution_count": 14,
   "metadata": {},
   "outputs": [],
   "source": [
    "# type_of_contract \t\n",
    "# channel\t\n",
    "# Term\t\n",
    "# product\t\n",
    "# amount\tX\n",
    "# state\t\n",
    "# credit rating\t\n",
    "# cancellation\t\n",
    "# age\tX\n",
    "# Mileage X\n",
    "\n",
    "\n",
    "\n",
    "contractCond렌탈 = 'type_of_contract == \"렌탈\"'\n",
    "contractCond멤버십 = 'type_of_contract == \"멤버십\"'\n",
    "\n",
    "termCond12 = 'Term == \"12\"'\n",
    "termCond36 = 'Term == \"36\"'\n",
    "termCond39 = 'Term == \"39\"'\n",
    "termCond60 = 'Term == \"60\"'\n",
    "\n",
    "productCondK1 = 'product == \"K1\"'\n",
    "productCondK2 = 'product == \"K2\"'\n",
    "productCondK3 = 'product == \"K3\"'\n",
    "productCondK4 = 'product == \"K4\"'\n",
    "productCondK5 = 'product == \"K5\"'\n",
    "productCondK6 = 'product == \"K6\"'\n",
    "productCondNan = 'product == \"nan\"'\n",
    "\n",
    "stateCond계약확정 = 'state == \"계약확정\"'\n",
    "stateCond해약확정 = 'state == \"해약확정\"'\n",
    "stateCond기간만료 = 'state == \"기간만료\"'\n",
    "stateCond해약진행중 = 'state == \"해약진행중\"'\n",
    "\n",
    "\n",
    "cancelCond정상 = 'cancellation == \"정상\"'\n",
    "cancelCond해약 = 'cancellation == \"해약\"'\n",
    "cancelCondNan = 'cancellation == \"nan\"'\n",
    "\n",
    "ageCond10s = ' age <= 19'\n",
    "ageCond20s = ' 20 <= age <= 29'\n",
    "ageCond30s = ' 30 <= age <= 39'\n",
    "ageCond40s = ' 40 <= age <= 49'\n",
    "ageCond50s = ' 50 <= age <= 59'\n",
    "ageCond60s = ' 60 <= age <= 69'\n",
    "ageCond70s = ' 70 <= age <= 79'\n",
    "ageCond80s = ' 80 <= age <= 89'\n",
    "ageCond90s = ' 90 <= age <= 99'"
   ]
  },
  {
   "cell_type": "code",
   "execution_count": null,
   "metadata": {},
   "outputs": [
    {
     "name": "stdout",
     "output_type": "stream",
     "text": [
      "계약 기간별 고객 충성도:\n",
      "cancellation         정상         해약\n",
      "Term                              \n",
      "12            80.654989  19.345011\n",
      "36            98.210024   1.789976\n",
      "39            99.215686   0.784314\n",
      "60            99.252290   0.747710\n"
     ]
    },
    {
     "data": {
      "image/png": "[encoded data removed]",
      "text/plain": [
       "<Figure size 1000x600 with 1 Axes>"
      ]
     },
     "metadata": {},
     "output_type": "display_data"
    }
   ],
   "source": [
    "# 계약 기간별 해약률 분석\n",
    "term_loyalty = pd.crosstab(editCol['Term'], editCol['cancellation'], normalize='index') * 100\n",
    "print(\"계약 기간별 고객 충성도:\")\n",
    "print(term_loyalty)\n",
    "\n",
    "# 시각화\n",
    "plt.figure(figsize=(10, 6))\n",
    "\n",
    "# x축을 위한 위치값 생성 (0부터 시작하는 일정한 간격의 인덱스)\n",
    "x_positions = range(len(term_loyalty.index))\n",
    "\n",
    "# 막대 그래프 그리기 - x위치값 사용\n",
    "plt.bar(x_positions, term_loyalty['정상'])\n",
    "\n",
    "# x축 레이블 설정 - 실제 계약기간 값을 레이블로 사용\n",
    "plt.xticks(x_positions, term_loyalty.index)\n",
    "\n",
    "plt.title('계약 기간별 정상 유지율')\n",
    "plt.xlabel('계약 기간(개월)')\n",
    "plt.ylabel('정상 유지율 (%)')\n",
    "\n",
    "plt.show()\n"
   ]
  },
  {
   "cell_type": "code",
   "execution_count": 16,
   "metadata": {},
   "outputs": [
    {
     "name": "stdout",
     "output_type": "stream",
     "text": [
      "\n",
      "신용등급별 계약 상태:\n",
      "state           계약확정  기간만료  해약진행중  해약확정\n",
      "credit rating                          \n",
      "0.0               60     0      0     0\n",
      "1.0            10685     1      2    90\n",
      "2.0             8088     2      2   136\n",
      "3.0             4856     1      0   140\n",
      "4.0             5260     3      2   114\n",
      "5.0             4240     5      1    71\n",
      "6.0             3751     5      3    59\n",
      "7.0             2663     5      2    47\n",
      "8.0             1504     5      0    33\n",
      "9.0              626     0      0    13\n",
      "10.0              45     0      0     1\n"
     ]
    },
    {
     "data": {
      "image/png": "[encoded data removed]",
      "text/plain": [
       "<Figure size 1200x600 with 1 Axes>"
      ]
     },
     "metadata": {},
     "output_type": "display_data"
    }
   ],
   "source": [
    "# 신용등급별 계약 유지 현황\n",
    "credit_loyalty = pd.crosstab(editCol['credit rating'], editCol['state'])\n",
    "print(\"\\n신용등급별 계약 상태:\")\n",
    "print(credit_loyalty)\n",
    "\n",
    "# 시각화\n",
    "plt.figure(figsize=(12, 6))\n",
    "credit_loyalty_pct = credit_loyalty.div(credit_loyalty.sum(axis=1), axis=0) * 100\n",
    "credit_loyalty_pct['계약확정'].sort_values(ascending=False).plot(kind='bar')\n",
    "plt.title('신용등급별 계약 유지율')\n",
    "plt.xlabel('신용등급')\n",
    "plt.ylabel('계약 유지율 (%)')\n",
    "plt.tight_layout()\n",
    "plt.show()\n",
    "\n",
    "# "
   ]
  },
  {
   "cell_type": "code",
   "execution_count": 17,
   "metadata": {},
   "outputs": [
    {
     "name": "stdout",
     "output_type": "stream",
     "text": [
      "\n",
      "충성 고객 연령대 분포:\n",
      "count    0.0\n",
      "mean     NaN\n",
      "std      NaN\n",
      "min      NaN\n",
      "25%      NaN\n",
      "50%      NaN\n",
      "75%      NaN\n",
      "max      NaN\n",
      "Name: age, dtype: float64\n",
      "\n",
      "충성 고객 선호 상품:\n",
      "Series([], Name: count, dtype: int64)\n",
      "\n",
      "충성 고객 유입 채널:\n",
      "Series([], Name: count, dtype: int64)\n"
     ]
    }
   ],
   "source": [
    "# 충성 고객 정의: \n",
    "# 1. 장기 계약(36개월 이상)\n",
    "# 2. 정상 상태 유지\n",
    "# 3. 해약하지 않은 고객\n",
    "\n",
    "loyal_customers = editCol[\n",
    "    (editCol['Term'].isin(['36', '39', '60'])) & \n",
    "    (editCol['state'] == '계약확정') & \n",
    "    (editCol['cancellation'] == '정상')\n",
    "]\n",
    "\n",
    "# 충성 고객의 특성 분석\n",
    "print(\"\\n충성 고객 연령대 분포:\")\n",
    "print(loyal_customers['age'].describe())\n",
    "\n",
    "# 충성 고객의 선호 상품\n",
    "loyal_product_dist = loyal_customers['product'].value_counts()\n",
    "print(\"\\n충성 고객 선호 상품:\")\n",
    "print(loyal_product_dist)\n",
    "\n",
    "# 충성 고객의 채널 분포\n",
    "loyal_channel_dist = loyal_customers['channel'].value_counts()\n",
    "print(\"\\n충성 고객 유입 채널:\")\n",
    "print(loyal_channel_dist)"
   ]
  },
  {
   "cell_type": "code",
   "execution_count": 18,
   "metadata": {},
   "outputs": [
    {
     "name": "stdout",
     "output_type": "stream",
     "text": [
      "\n",
      "계약 상태별 평균 마일리지:\n",
      "state\n",
      "계약확정     1967.849484\n",
      "기간만료     2120.576923\n",
      "해약진행중    1893.250000\n",
      "해약확정     1967.667665\n",
      "Name: Mileage, dtype: float64\n"
     ]
    },
    {
     "data": {
      "image/png": "[encoded data removed]",
      "text/plain": [
       "<Figure size 1000x600 with 1 Axes>"
      ]
     },
     "metadata": {},
     "output_type": "display_data"
    }
   ],
   "source": [
    "# 계약 상태별 평균 마일리지 비교\n",
    "mileage_by_state = editCol.groupby('state')['Mileage'].mean()\n",
    "print(\"\\n계약 상태별 평균 마일리지:\")\n",
    "print(mileage_by_state)\n",
    "\n",
    "# 시각화\n",
    "plt.figure(figsize=(10, 6))\n",
    "mileage_by_state.plot(kind='bar')\n",
    "plt.title('계약 상태별 평균 마일리지')\n",
    "plt.xlabel('계약 상태')\n",
    "plt.ylabel('평균 마일리지')\n",
    "plt.tight_layout()\n",
    "plt.show()"
   ]
  },
  {
   "cell_type": "code",
   "execution_count": 19,
   "metadata": {},
   "outputs": [
    {
     "name": "stdout",
     "output_type": "stream",
     "text": [
      "\n",
      "=== 충성 고객 프로파일 ===\n",
      "\n",
      "연령대별 분포:\n",
      "age\n",
      "10대    0\n",
      "20대    0\n",
      "30대    0\n",
      "40대    0\n",
      "50대    0\n",
      "60대    0\n",
      "70대    0\n",
      "80대    0\n",
      "90대    0\n",
      "Name: count, dtype: int64\n",
      "\n",
      "선호 계약유형:\n",
      "Series([], Name: count, dtype: int64)\n",
      "\n",
      "평균 마일리지:\n",
      "nan\n",
      "\n",
      "주요 유입채널:\n",
      "Series([], Name: count, dtype: int64)\n"
     ]
    }
   ],
   "source": [
    "# 충성 고객의 종합적 특성\n",
    "loyal_profile = {\n",
    "    '연령대별 분포': pd.cut(loyal_customers['age'], \n",
    "                      bins=[0, 19, 29, 39, 49, 59, 69, 79, 89, 99],\n",
    "                      labels=['10대', '20대', '30대', '40대', '50대', '60대', '70대', '80대', '90대']\n",
    "                     ).value_counts(),\n",
    "    '선호 계약유형': loyal_customers['type_of_contract'].value_counts(),\n",
    "    '평균 마일리지': loyal_customers['Mileage'].mean(),\n",
    "    '주요 유입채널': loyal_customers['channel'].value_counts().head()\n",
    "}\n",
    "\n",
    "print(\"\\n=== 충성 고객 프로파일 ===\")\n",
    "for key, value in loyal_profile.items():\n",
    "    print(f\"\\n{key}:\")\n",
    "    print(value)"
   ]
  },
  {
   "cell_type": "code",
   "execution_count": null,
   "metadata": {},
   "outputs": [],
   "source": []
  }
 ],
 "metadata": {
  "kernelspec": {
   "display_name": "Python 3",
   "language": "python",
   "name": "python3"
  },
  "language_info": {
   "codemirror_mode": {
    "name": "ipython",
    "version": 3
   },
   "file_extension": ".py",
   "mimetype": "text/x-python",
   "name": "python",
   "nbconvert_exporter": "python",
   "pygments_lexer": "ipython3",
   "version": "3.11.11"
  }
 },
 "nbformat": 4,
 "nbformat_minor": 2
}
