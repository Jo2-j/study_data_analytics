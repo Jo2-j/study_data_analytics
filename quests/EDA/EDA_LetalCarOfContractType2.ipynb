{
 "cells": [
  {
   "cell_type": "markdown",
   "metadata": {},
   "source": [
    "제안 8: 계약 갱신율 최적화 전략\n",
    "- 문제 정의: 다양한 계약 유형 및 고객 특성을 분석하여 계약 갱신율을 증가시키는 전략을 개발합니다.\n",
    "- 배경: 계약 갱신율을 높이기 위한 전략을 수립함으로써 장기적인 고객 관계를 유지하고, 안정적인 수익 흐름을 확보할 수 있습니다.\n"
   ]
  },
  {
   "cell_type": "markdown",
   "metadata": {},
   "source": [
    "- Channel에 채널 재계약을 가진 데이터를 중심으로\n",
    "- type_of_contract2에서의 상관관계 도출\n",
    "- 전략 수립"
   ]
  },
  {
   "cell_type": "code",
   "execution_count": 16,
   "metadata": {},
   "outputs": [],
   "source": [
    "# channel\n",
    "# type_of_contract2"
   ]
  },
  {
   "cell_type": "code",
   "execution_count": null,
   "metadata": {},
   "outputs": [],
   "source": [
    "import matplotlib.pyplot as plt\n",
    "import matplotlib as mpl # 한글 폰트 설정 (NanumGothic) \n",
    "mpl.rcParams['font.family'] = 'NanumGothic'\n",
    "mpl.rcParams['axes.unicode_minus'] = False  # 마이너스 기호 깨짐 방지\n",
    "import pandas as pd \n",
    "rentAcar = pd.read_csv('../../datasets/LetalCarOfContractType.csv')\n",
    "rentAcar.head()"
   ]
  },
  {
   "cell_type": "code",
   "execution_count": null,
   "metadata": {},
   "outputs": [],
   "source": [
    "editDf = rentAcar[rentAcar['channel'] == '렌탈재계약']\n",
    "editDf\n"
   ]
  },
  {
   "cell_type": "code",
   "execution_count": null,
   "metadata": {},
   "outputs": [],
   "source": [
    "editDf['type_of_contract'].value_counts()"
   ]
  },
  {
   "cell_type": "code",
   "execution_count": null,
   "metadata": {},
   "outputs": [],
   "source": [
    "editDf['type_of_contract2'].value_counts()"
   ]
  },
  {
   "cell_type": "code",
   "execution_count": null,
   "metadata": {},
   "outputs": [],
   "source": [
    "editDf['Term'].value_counts()"
   ]
  },
  {
   "cell_type": "code",
   "execution_count": null,
   "metadata": {},
   "outputs": [],
   "source": [
    "editDf['product'].value_counts()"
   ]
  },
  {
   "cell_type": "code",
   "execution_count": null,
   "metadata": {},
   "outputs": [],
   "source": [
    "editDf['cancellation'].value_counts()"
   ]
  },
  {
   "cell_type": "code",
   "execution_count": null,
   "metadata": {},
   "outputs": [],
   "source": [
    "cancelDf = editDf[editDf['cancellation'] == '해약']\n",
    "cancelDf['bank'].value_counts()"
   ]
  },
  {
   "cell_type": "code",
   "execution_count": null,
   "metadata": {},
   "outputs": [],
   "source": [
    "import matplotlib.pyplot as plt\n",
    "import matplotlib as mpl\n",
    "import pandas as pd\n",
    "import seaborn as sns\n",
    "\n",
    "# 한글 폰트 설정\n",
    "mpl.rcParams['font.family'] = 'NanumGothic'\n",
    "mpl.rcParams['axes.unicode_minus'] = False\n",
    "\n",
    "# 렌탈재계약 데이터 분석\n",
    "rentAcar = pd.read_csv('../../datasets/LetalCarOfContractType.csv')\n",
    "editDf = rentAcar[rentAcar['channel'] == '렌탈재계약']\n",
    "cancelDf = editDf[editDf['cancellation'] == '해약']\n",
    "\n",
    "# 1. 계약 유형 및 해약 현황 분석\n",
    "plt.figure(figsize=(15, 6))\n",
    "\n",
    "plt.subplot(1, 2, 1)\n",
    "type_counts = editDf['type_of_contract2'].value_counts()\n",
    "plt.pie(type_counts, labels=type_counts.index, autopct='%1.1f%%')\n",
    "plt.title('계약 유형별 분포')\n",
    "\n",
    "plt.subplot(1, 2, 2)\n",
    "cancel_counts = editDf['cancellation'].value_counts()\n",
    "plt.pie(cancel_counts, labels=cancel_counts.index, autopct='%1.1f%%')\n",
    "plt.title('계약 상태 분포')\n",
    "\n",
    "plt.tight_layout()\n",
    "plt.show()\n",
    "\n",
    "# 2. 연령대별 분포와 해약률\n",
    "editDf['age_group'] = pd.cut(editDf['age'], \n",
    "                            bins=[0, 30, 40, 50, 60, 100], \n",
    "                            labels=['30대 이하', '30-40대', '40-50대', '50-60대', '60대 이상'])\n",
    "\n",
    "plt.figure(figsize=(15, 6))\n",
    "\n",
    "plt.subplot(1, 2, 1)\n",
    "age_dist = editDf['age_group'].value_counts()\n",
    "plt.pie(age_dist, labels=age_dist.index, autopct='%1.1f%%')\n",
    "plt.title('연령대별 분포')\n",
    "\n",
    "plt.subplot(1, 2, 2)\n",
    "age_cancel = pd.crosstab(editDf['age_group'], editDf['cancellation'])\n",
    "age_cancel_pct = (age_cancel['해약'] / age_cancel.sum(axis=1)) * 100\n",
    "plt.pie(age_cancel_pct, labels=age_cancel_pct.index, autopct='%1.1f%%')\n",
    "plt.title('연령대별 해약률')\n",
    "\n",
    "plt.tight_layout()\n",
    "plt.show()\n",
    "\n",
    "# 3. 신용등급 분포\n",
    "plt.figure(figsize=(10, 6))\n",
    "credit_dist = cancelDf['credit rating'].value_counts()\n",
    "\n",
    "# 막대그래프 생성\n",
    "bars = plt.bar(credit_dist.index, credit_dist.values)\n",
    "\n",
    "# 각 막대 위에 값 표시\n",
    "for bar in bars:\n",
    "    height = bar.get_height()\n",
    "    plt.text(bar.get_x() + bar.get_width()/2., height,\n",
    "             f'{int(height)}\\n({height/len(cancelDf)*100:.1f}%)',\n",
    "             ha='center', va='bottom')\n",
    "\n",
    "plt.title('신용등급 분포')\n",
    "plt.xlabel('신용등급')\n",
    "plt.ylabel('고객 수')\n",
    "plt.xticks(rotation=0)\n",
    "plt.grid(axis='y', linestyle='--', alpha=0.7)\n",
    "plt.show()"
   ]
  },
  {
   "cell_type": "code",
   "execution_count": null,
   "metadata": {},
   "outputs": [],
   "source": [
    "# 색상 설정\n",
    "highlight_color = '#FF6B6B'  # 강조색\n",
    "normal_color = '#A0A0A0'     # 기본색\n",
    "\n",
    "# 1. 전체 은행 분포\n",
    "plt.figure(figsize=(15, 6))\n",
    "plt.subplot(1, 2, 1)\n",
    "bank_dist = editDf['bank'].value_counts()\n",
    "colors1 = [highlight_color if i < 5 else normal_color for i in range(len(bank_dist))]\n",
    "bars1 = plt.bar(bank_dist.index, bank_dist.values, color=colors1)\n",
    "\n",
    "# 각 막대 위에 값과 비율 표시\n",
    "for bar in bars1:\n",
    "    height = bar.get_height()\n",
    "    plt.text(bar.get_x() + bar.get_width()/2., height,\n",
    "             f'{int(height)}\\n({height/len(editDf)*100:.1f}%)',\n",
    "             ha='center', va='bottom')\n",
    "\n",
    "plt.title('은행별 고객 분포')\n",
    "plt.xlabel('은행명')\n",
    "plt.ylabel('고객 수')\n",
    "plt.xticks(rotation=45)\n",
    "plt.grid(axis='y', linestyle='--', alpha=0.7)\n",
    "\n",
    "# 2. 해약 고객의 은행 분포\n",
    "plt.subplot(1, 2, 2)\n",
    "cancel_bank = editDf[editDf['cancellation'] == '해약']['bank'].value_counts()\n",
    "colors2 = [highlight_color if i < 5 else normal_color for i in range(len(cancel_bank))]\n",
    "bars2 = plt.bar(cancel_bank.index, cancel_bank.values, color=colors2)\n",
    "\n",
    "# 각 막대 위에 값과 비율 표시\n",
    "for bar in bars2:\n",
    "    height = bar.get_height()\n",
    "    plt.text(bar.get_x() + bar.get_width()/2., height,\n",
    "             f'{int(height)}\\n({height/len(editDf[editDf[\"cancellation\"] == \"해약\"])*100:.1f}%)',\n",
    "             ha='center', va='bottom')\n",
    "\n",
    "plt.title('해약 고객의 은행 분포')\n",
    "plt.xlabel('은행명')\n",
    "plt.ylabel('해약 고객 수')\n",
    "plt.xticks(rotation=45)\n",
    "plt.grid(axis='y', linestyle='--', alpha=0.7)\n",
    "\n",
    "plt.tight_layout()\n",
    "plt.show()\n",
    "\n",
    "# 3. 은행별 해약률\n",
    "plt.figure(figsize=(12, 6))\n",
    "bank_cancel = pd.crosstab(editDf['bank'], editDf['cancellation'])\n",
    "bank_cancel_rate = (bank_cancel['해약'] / bank_cancel.sum(axis=1) * 100).sort_values(ascending=False)\n",
    "\n",
    "colors3 = [highlight_color if i < 5 else normal_color for i in range(len(bank_cancel_rate))]\n",
    "bars3 = plt.bar(bank_cancel_rate.index, bank_cancel_rate.values, color=colors3)\n",
    "\n",
    "# 각 막대 위에 해약률 표시\n",
    "for bar in bars3:\n",
    "    height = bar.get_height()\n",
    "    plt.text(bar.get_x() + bar.get_width()/2., height,\n",
    "             f'{height:.1f}%',\n",
    "             ha='center', va='bottom')\n",
    "\n",
    "plt.title('은행별 해약률')\n",
    "plt.xlabel('은행명')\n",
    "plt.ylabel('해약률 (%)')\n",
    "plt.xticks(rotation=45)\n",
    "plt.grid(axis='y', linestyle='--', alpha=0.7)\n",
    "plt.tight_layout()\n",
    "plt.show()\n",
    "\n",
    "# 데이터 출력\n",
    "print(\"\\n=== 상위 5개 은행의 해약률 ===\")\n",
    "for bank, rate in list(bank_cancel_rate.items())[:5]:\n",
    "    print(f\"{bank}: {rate:.1f}%\")"
   ]
  },
  {
   "cell_type": "markdown",
   "metadata": {},
   "source": [
    "1. 멤버십 현황\n",
    "일반 멤버십이 전체의 약 99.99%를 차지\n",
    "TAS(특별 계약) 고객은 재계약의 약 94.9%로, 맞춤형 서비스를 필요로 하는 고객층 존재\n",
    "\n",
    "2. 계약 기간 특성\n",
    "12개월 단기 계약이 99.99% 우위\n",
    "\n",
    "3. 차량 선호도\n",
    "K1 등급 차량이 전체의 약 98% 차지\n",
    "중저가 차량 선호도가 높음\n",
    "\n",
    "4. 해약 현황\n",
    "재계약후 > 해약률: 20.3%\n",
    "\n",
    "주요 해약 고객 은행 분포:\n",
    "국민은행: 28.5%\n",
    "농협은행: 22.3%\n",
    "우리은행: 18.7%\n",
    "신한은행: 15.2%\n",
    "\n",
    "개선 전략 제안\n",
    "1. 멤버십 프로그램 개선\n",
    "차별화된 혜택 제공: 일반 멤버십 고객을 위한 단계별 혜택 체계 도입\n",
    "TAS 확대: 맞춤형 서비스 수요가 있는 만큼, TAS 프로그램 확대 및 홍보 강화\n",
    "\n",
    "2. 계약 기간 다각화\n",
    "중기 계약 유도: 12개월과 24개월 사이의 18개월 상품 개발\n",
    "장기 계약 인센티브: 24개월 이상 계약 시 특별 혜택 제공\n",
    "\n",
    "3. 차량 포트폴리오 전략\n",
    "K1 차량 서비스 강화: 주력 상품인 K1 등급 차량의 서비스 품질 향상\n",
    "상위 등급 전환 프로모션: K2, K3 등급으로의 업그레이드 혜택 제공 > 더 높은 등급은 더 높은 이윤을 의미 하기에\n",
    "\n",
    "4. 해약 방지 전략\n",
    "주요 은행 제휴 강화: 상위 4개 은행과의 전략적 제휴를 통한 금융 혜택 확대\n",
    "조기경보시스템 도입: 해약 가능성이 높은 고객 조기 발견 및 관리\n",
    "\n",
    "\n",
    "5. 장기적 개선 방안\n",
    "고객 피드백 시스템 구축: 정기적인 만족도 조사 실시\n",
    "데이터 기반 의사결정: 고객 행동 패턴 분석을 통한 선제적 대응\n",
    "유연한 계약 조건: 고객 상황에 따른 계약 조건 조정 가능성 검토(12개월 다음 선택지가 36개월, 그렇기에 단기 계약으로 하고 그 이후에 해약 고객도 20% 차지)"
   ]
  },
  {
   "cell_type": "markdown",
   "metadata": {},
   "source": []
  }
 ],
 "metadata": {
  "kernelspec": {
   "display_name": "Python 3",
   "language": "python",
   "name": "python3"
  },
  "language_info": {
   "codemirror_mode": {
    "name": "ipython",
    "version": 3
   },
   "file_extension": ".py",
   "mimetype": "text/x-python",
   "name": "python",
   "nbconvert_exporter": "python",
   "pygments_lexer": "ipython3",
   "version": "3.11.11"
  }
 },
 "nbformat": 4,
 "nbformat_minor": 2
}
