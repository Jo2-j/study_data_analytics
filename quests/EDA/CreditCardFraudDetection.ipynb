{
 "cells": [
  {
   "cell_type": "code",
   "execution_count": 17,
   "metadata": {},
   "outputs": [
    {
     "data": {
      "text/html": [
       "<div>\n",
       "<style scoped>\n",
       "    .dataframe tbody tr th:only-of-type {\n",
       "        vertical-align: middle;\n",
       "    }\n",
       "\n",
       "    .dataframe tbody tr th {\n",
       "        vertical-align: top;\n",
       "    }\n",
       "\n",
       "    .dataframe thead th {\n",
       "        text-align: right;\n",
       "    }\n",
       "</style>\n",
       "<table border=\"1\" class=\"dataframe\">\n",
       "  <thead>\n",
       "    <tr style=\"text-align: right;\">\n",
       "      <th></th>\n",
       "      <th>TransactionID</th>\n",
       "      <th>TransactionDate</th>\n",
       "      <th>Amount</th>\n",
       "      <th>MerchantID</th>\n",
       "      <th>TransactionType</th>\n",
       "      <th>Location</th>\n",
       "      <th>IsFraud</th>\n",
       "    </tr>\n",
       "  </thead>\n",
       "  <tbody>\n",
       "    <tr>\n",
       "      <th>0</th>\n",
       "      <td>1</td>\n",
       "      <td>2024-04-03 14:15:35.462794</td>\n",
       "      <td>4189.27</td>\n",
       "      <td>688</td>\n",
       "      <td>refund</td>\n",
       "      <td>San Antonio</td>\n",
       "      <td>0</td>\n",
       "    </tr>\n",
       "    <tr>\n",
       "      <th>1</th>\n",
       "      <td>2</td>\n",
       "      <td>2024-03-19 13:20:35.462824</td>\n",
       "      <td>2659.71</td>\n",
       "      <td>109</td>\n",
       "      <td>refund</td>\n",
       "      <td>Dallas</td>\n",
       "      <td>0</td>\n",
       "    </tr>\n",
       "    <tr>\n",
       "      <th>2</th>\n",
       "      <td>3</td>\n",
       "      <td>2024-01-08 10:08:35.462834</td>\n",
       "      <td>784.00</td>\n",
       "      <td>394</td>\n",
       "      <td>purchase</td>\n",
       "      <td>New York</td>\n",
       "      <td>0</td>\n",
       "    </tr>\n",
       "    <tr>\n",
       "      <th>3</th>\n",
       "      <td>4</td>\n",
       "      <td>2024-04-13 23:50:35.462850</td>\n",
       "      <td>3514.40</td>\n",
       "      <td>944</td>\n",
       "      <td>purchase</td>\n",
       "      <td>Philadelphia</td>\n",
       "      <td>0</td>\n",
       "    </tr>\n",
       "    <tr>\n",
       "      <th>4</th>\n",
       "      <td>5</td>\n",
       "      <td>2024-07-12 18:51:35.462858</td>\n",
       "      <td>369.07</td>\n",
       "      <td>475</td>\n",
       "      <td>purchase</td>\n",
       "      <td>Phoenix</td>\n",
       "      <td>0</td>\n",
       "    </tr>\n",
       "  </tbody>\n",
       "</table>\n",
       "</div>"
      ],
      "text/plain": [
       "   TransactionID             TransactionDate   Amount  MerchantID  \\\n",
       "0              1  2024-04-03 14:15:35.462794  4189.27         688   \n",
       "1              2  2024-03-19 13:20:35.462824  2659.71         109   \n",
       "2              3  2024-01-08 10:08:35.462834   784.00         394   \n",
       "3              4  2024-04-13 23:50:35.462850  3514.40         944   \n",
       "4              5  2024-07-12 18:51:35.462858   369.07         475   \n",
       "\n",
       "  TransactionType      Location  IsFraud  \n",
       "0          refund   San Antonio        0  \n",
       "1          refund        Dallas        0  \n",
       "2        purchase      New York        0  \n",
       "3        purchase  Philadelphia        0  \n",
       "4        purchase       Phoenix        0  "
      ]
     },
     "execution_count": 17,
     "metadata": {},
     "output_type": "execute_result"
    }
   ],
   "source": [
    "import matplotlib.pyplot as plt\n",
    "import matplotlib as mpl\n",
    "import seaborn as sns\n",
    "import pandas as pd\n",
    "import numpy as np\n",
    "from scipy import stats\n",
    "from scipy.stats import chi2_contingency, pearsonr, spearmanr\n",
    "\n",
    "# Font settings\n",
    "mpl.rcParams['font.family'] = 'NanumGothic'\n",
    "mpl.rcParams['axes.unicode_minus'] = False  # Prevent minus sign issues\n",
    "\n",
    "\n",
    "orgDf = pd.read_csv('../../datasets/credit_card_fraud_dataset.csv')\n",
    "orgDf.head()"
   ]
  },
  {
   "cell_type": "code",
   "execution_count": 18,
   "metadata": {},
   "outputs": [
    {
     "name": "stdout",
     "output_type": "stream",
     "text": [
      "<class 'pandas.core.frame.DataFrame'>\n",
      "RangeIndex: 100000 entries, 0 to 99999\n",
      "Data columns (total 7 columns):\n",
      " #   Column           Non-Null Count   Dtype  \n",
      "---  ------           --------------   -----  \n",
      " 0   TransactionID    100000 non-null  int64  \n",
      " 1   TransactionDate  100000 non-null  object \n",
      " 2   Amount           100000 non-null  float64\n",
      " 3   MerchantID       100000 non-null  int64  \n",
      " 4   TransactionType  100000 non-null  object \n",
      " 5   Location         100000 non-null  object \n",
      " 6   IsFraud          100000 non-null  int64  \n",
      "dtypes: float64(1), int64(3), object(3)\n",
      "memory usage: 5.3+ MB\n"
     ]
    },
    {
     "data": {
      "text/plain": [
       "(None,\n",
       " RangeIndex(start=0, stop=100000, step=1),\n",
       "        TransactionID         Amount     MerchantID        IsFraud\n",
       " count  100000.000000  100000.000000  100000.000000  100000.000000\n",
       " mean    50000.500000    2497.092666     501.676070       0.010000\n",
       " std     28867.657797    1442.415999     288.715868       0.099499\n",
       " min         1.000000       1.050000       1.000000       0.000000\n",
       " 25%     25000.750000    1247.955000     252.000000       0.000000\n",
       " 50%     50000.500000    2496.500000     503.000000       0.000000\n",
       " 75%     75000.250000    3743.592500     753.000000       0.000000\n",
       " max    100000.000000    4999.770000    1000.000000       1.000000)"
      ]
     },
     "execution_count": 18,
     "metadata": {},
     "output_type": "execute_result"
    }
   ],
   "source": [
    "orgDf.info(), orgDf.index, orgDf.describe()"
   ]
  },
  {
   "cell_type": "code",
   "execution_count": 19,
   "metadata": {},
   "outputs": [
    {
     "data": {
      "text/plain": [
       "count    100000.000000\n",
       "mean       2497.092666\n",
       "std        1442.415999\n",
       "min           1.050000\n",
       "25%        1247.955000\n",
       "50%        2496.500000\n",
       "75%        3743.592500\n",
       "max        4999.770000\n",
       "Name: Amount, dtype: float64"
      ]
     },
     "execution_count": 19,
     "metadata": {},
     "output_type": "execute_result"
    }
   ],
   "source": [
    "orgDf['Amount'].describe()"
   ]
  },
  {
   "cell_type": "code",
   "execution_count": 20,
   "metadata": {},
   "outputs": [
    {
     "data": {
      "text/plain": [
       "(1000,\n",
       " MerchantID\n",
       " 461    149\n",
       " 188    134\n",
       " 192    129\n",
       " 517    128\n",
       " 820    126\n",
       "       ... \n",
       " 119     75\n",
       " 936     74\n",
       " 968     73\n",
       " 635     71\n",
       " 512     69\n",
       " Name: count, Length: 1000, dtype: int64)"
      ]
     },
     "execution_count": 20,
     "metadata": {},
     "output_type": "execute_result"
    }
   ],
   "source": [
    "len(orgDf['MerchantID'].value_counts()), orgDf['MerchantID'].value_counts()"
   ]
  },
  {
   "cell_type": "code",
   "execution_count": 21,
   "metadata": {},
   "outputs": [
    {
     "data": {
      "text/plain": [
       "IsFraud\n",
       "0    99000\n",
       "1     1000\n",
       "Name: count, dtype: int64"
      ]
     },
     "execution_count": 21,
     "metadata": {},
     "output_type": "execute_result"
    }
   ],
   "source": [
    "orgDf['IsFraud'].value_counts()"
   ]
  },
  {
   "cell_type": "code",
   "execution_count": 22,
   "metadata": {},
   "outputs": [
    {
     "data": {
      "text/plain": [
       "Location\n",
       "Chicago         10193\n",
       "San Diego       10111\n",
       "Dallas          10076\n",
       "San Antonio     10062\n",
       "New York         9993\n",
       "Houston          9991\n",
       "Phoenix          9960\n",
       "Los Angeles      9936\n",
       "Philadelphia     9873\n",
       "San Jose         9805\n",
       "Name: count, dtype: int64"
      ]
     },
     "execution_count": 22,
     "metadata": {},
     "output_type": "execute_result"
    }
   ],
   "source": [
    "orgDf['Location'].value_counts() "
   ]
  },
  {
   "cell_type": "code",
   "execution_count": 23,
   "metadata": {},
   "outputs": [],
   "source": [
    "fraud = orgDf[orgDf['IsFraud'] == 1]\n"
   ]
  },
  {
   "cell_type": "code",
   "execution_count": 24,
   "metadata": {},
   "outputs": [
    {
     "data": {
      "text/plain": [
       "Location\n",
       "New York        116\n",
       "San Diego       115\n",
       "Houston         105\n",
       "Phoenix          99\n",
       "Dallas           99\n",
       "San Antonio      99\n",
       "Chicago          95\n",
       "Los Angeles      95\n",
       "Philadelphia     90\n",
       "San Jose         87\n",
       "Name: count, dtype: int64"
      ]
     },
     "execution_count": 24,
     "metadata": {},
     "output_type": "execute_result"
    }
   ],
   "source": [
    "fraud['Location'].value_counts()"
   ]
  },
  {
   "cell_type": "code",
   "execution_count": 25,
   "metadata": {},
   "outputs": [
    {
     "data": {
      "text/plain": [
       "Location\n",
       "Chicago         1.0193\n",
       "San Diego       1.0111\n",
       "Dallas          1.0076\n",
       "San Antonio     1.0062\n",
       "New York        0.9993\n",
       "Houston         0.9991\n",
       "Phoenix         0.9960\n",
       "Los Angeles     0.9936\n",
       "Philadelphia    0.9873\n",
       "San Jose        0.9805\n",
       "Name: count, dtype: float64"
      ]
     },
     "execution_count": 25,
     "metadata": {},
     "output_type": "execute_result"
    }
   ],
   "source": [
    "rateOfPurchase = (orgDf['Location'].value_counts()) / 10000\n",
    "rateOfPurchase"
   ]
  },
  {
   "cell_type": "code",
   "execution_count": null,
   "metadata": {},
   "outputs": [],
   "source": []
  }
 ],
 "metadata": {
  "kernelspec": {
   "display_name": "Python 3",
   "language": "python",
   "name": "python3"
  },
  "language_info": {
   "codemirror_mode": {
    "name": "ipython",
    "version": 3
   },
   "file_extension": ".py",
   "mimetype": "text/x-python",
   "name": "python",
   "nbconvert_exporter": "python",
   "pygments_lexer": "ipython3",
   "version": "3.11.11"
  }
 },
 "nbformat": 4,
 "nbformat_minor": 2
}
