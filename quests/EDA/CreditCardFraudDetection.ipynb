{
 "cells": [
  {
   "cell_type": "code",
   "execution_count": null,
   "metadata": {},
   "outputs": [],
   "source": [
    "import matplotlib.pyplot as plt\n",
    "import matplotlib as mpl\n",
    "import seaborn as sns\n",
    "import pandas as pd\n",
    "import numpy as np\n",
    "from scipy import stats\n",
    "from scipy.stats import chi2_contingency, pearsonr, spearmanr\n",
    "\n",
    "# Font settings\n",
    "mpl.rcParams['font.family'] = 'NanumGothic'\n",
    "mpl.rcParams['axes.unicode_minus'] = False  # Prevent minus sign issues\n",
    "\n",
    "\n",
    "orgDf = pd.read_csv('../../datasets/credit_card_fraud_dataset.csv')\n",
    "orgDf.head()"
   ]
  },
  {
   "cell_type": "markdown",
   "metadata": {},
   "source": [
    "제안 2: 이상 거래 탐지\n",
    "- 문제 정의:\n",
    "    +  거래 데이터(Amount, TransactionType, Location, IsFraud)를 바탕으로 이상 거래를 탐지하고, 거래 사기 가능성을 예측합니다.\n",
    "- 목표:\n",
    "    + 거래 금액의 분포 및 이상치 탐색\n",
    "    + 거래 유형별 사기 발생률 비교\n",
    "    + 사기 거래가 자주 발생하는 지역 및 시간대 식별\n",
    "-   배경:\n",
    "    + 이상 거래를 조기에 탐지함으로써 사기 방지 시스템을 강화하고, 금융 손실을 줄일 수 있습니다."
   ]
  },
  {
   "cell_type": "code",
   "execution_count": null,
   "metadata": {},
   "outputs": [],
   "source": [
    "orgDf.info(), orgDf.index, orgDf.describe()"
   ]
  },
  {
   "cell_type": "code",
   "execution_count": null,
   "metadata": {},
   "outputs": [],
   "source": [
    "orgDf['Amount'].describe()"
   ]
  },
  {
   "cell_type": "code",
   "execution_count": null,
   "metadata": {},
   "outputs": [],
   "source": [
    "len(orgDf['MerchantID'].value_counts()), orgDf['MerchantID'].value_counts()"
   ]
  },
  {
   "cell_type": "code",
   "execution_count": null,
   "metadata": {},
   "outputs": [],
   "source": [
    "orgDf['IsFraud'].value_counts()"
   ]
  },
  {
   "cell_type": "code",
   "execution_count": null,
   "metadata": {},
   "outputs": [],
   "source": [
    "orgDf['Location'].value_counts() "
   ]
  },
  {
   "cell_type": "code",
   "execution_count": 231,
   "metadata": {},
   "outputs": [],
   "source": [
    "fraud = orgDf[orgDf['IsFraud'] == 1]\n"
   ]
  },
  {
   "cell_type": "code",
   "execution_count": null,
   "metadata": {},
   "outputs": [],
   "source": [
    "fraud['Location'].value_counts()"
   ]
  },
  {
   "cell_type": "code",
   "execution_count": null,
   "metadata": {},
   "outputs": [],
   "source": [
    "rateOfPurchase = (orgDf['Location'].value_counts()) / 100000\n",
    "rateOfPurchase"
   ]
  },
  {
   "cell_type": "code",
   "execution_count": null,
   "metadata": {},
   "outputs": [],
   "source": [
    "rateOfFraudByLoc = (fraud['Location'].value_counts()) / 1000\n",
    "rateOfFraudByLoc"
   ]
  },
  {
   "cell_type": "code",
   "execution_count": null,
   "metadata": {},
   "outputs": [],
   "source": [
    "orgDf['TransactionDate'].info, orgDf['TransactionDate'].describe(), orgDf['TransactionDate'].value_counts(), orgDf['TransactionDate'].index"
   ]
  },
  {
   "cell_type": "markdown",
   "metadata": {},
   "source": [
    "### 거래 금액의 분포 및 이상치 탐색"
   ]
  },
  {
   "cell_type": "code",
   "execution_count": null,
   "metadata": {},
   "outputs": [],
   "source": [
    "import matplotlib.pyplot as plt\n",
    "import numpy as np\n",
    "\n",
    "# 1. Transaction Amount Distribution Analysis\n",
    "fig, ((ax1, ax2), (ax3, ax4)) = plt.subplots(2, 2, figsize=(15, 12))\n",
    "\n",
    "# Box Plot (Normal Scale)\n",
    "bp = ax1.boxplot(orgDf['Amount'], patch_artist=True)\n",
    "ax1.set_title('Transaction Amount Distribution\\n(Normal Scale)', fontsize=12)\n",
    "ax1.set_ylabel('Amount')\n",
    "ax1.grid(True, linestyle='--', alpha=0.7)\n",
    "plt.setp(bp['boxes'], color='black', facecolor='lightsteelblue')\n",
    "plt.setp(bp['medians'], color='red', linewidth=1.5)\n",
    "plt.setp(bp['whiskers'], color='black', linestyle='-')\n",
    "plt.setp(bp['fliers'], marker='o', markerfacecolor='gray', alpha=0.5)\n",
    "\n",
    "# Box Plot (Log Scale)\n",
    "bp = ax2.boxplot(orgDf['Amount'], patch_artist=True)\n",
    "ax2.set_yscale('log')\n",
    "ax2.set_title('Transaction Amount Distribution\\n(Log Scale)', fontsize=12)\n",
    "ax2.set_ylabel('Amount (log scale)')\n",
    "ax2.grid(True, linestyle='--', alpha=0.7)\n",
    "plt.setp(bp['boxes'], color='black', facecolor='lightsteelblue')\n",
    "plt.setp(bp['medians'], color='red', linewidth=1.5)\n",
    "plt.setp(bp['whiskers'], color='black', linestyle='-')\n",
    "plt.setp(bp['fliers'], marker='o', markerfacecolor='gray', alpha=0.5)\n",
    "\n",
    "# Histogram (Normal Scale)\n",
    "n, bins, patches = ax3.hist(orgDf['Amount'], bins=50, \n",
    "                           facecolor='lightsteelblue', \n",
    "                           edgecolor='black', \n",
    "                           alpha=0.7)\n",
    "ax3.set_title('Transaction Amount Histogram\\n(Normal Scale)', fontsize=12)\n",
    "ax3.set_xlabel('Amount')\n",
    "ax3.set_ylabel('Frequency')\n",
    "ax3.grid(True, linestyle='--', alpha=0.7)\n",
    "\n",
    "# Histogram (Log Scale)\n",
    "n, bins, patches = ax4.hist(orgDf['Amount'], bins=50, \n",
    "                           facecolor='lightsteelblue', \n",
    "                           edgecolor='black', \n",
    "                           alpha=0.7)\n",
    "ax4.set_xscale('log')\n",
    "ax4.set_title('Transaction Amount Histogram\\n(Log Scale)', fontsize=12)\n",
    "ax4.set_xlabel('Amount (log scale)')\n",
    "ax4.set_ylabel('Frequency')\n",
    "ax4.grid(True, linestyle='--', alpha=0.7)\n",
    "\n",
    "plt.tight_layout()\n",
    "plt.show()\n",
    "\n",
    "# 2. Fraud vs Normal Transaction Comparison\n",
    "fig, (ax1, ax2) = plt.subplots(1, 2, figsize=(15, 6))\n",
    "\n",
    "# Box Plot Comparison (Normal and Log Scale)\n",
    "normal_amounts = orgDf[orgDf['IsFraud']==0]['Amount']\n",
    "fraud_amounts = orgDf[orgDf['IsFraud']==1]['Amount']\n",
    "\n",
    "# Normal Scale\n",
    "data = [normal_amounts, fraud_amounts]\n",
    "bp1 = ax1.boxplot(data, labels=['Normal', 'Fraud'], patch_artist=True)\n",
    "ax1.set_title('Transaction Amount by Class\\n(Normal Scale)', fontsize=12)\n",
    "ax1.set_ylabel('Amount')\n",
    "ax1.grid(True, linestyle='--', alpha=0.7)\n",
    "plt.setp(bp1['boxes'][0], facecolor='lightsteelblue')\n",
    "plt.setp(bp1['boxes'][1], facecolor='lightcoral')\n",
    "plt.setp(bp1['medians'], color='red', linewidth=1.5)\n",
    "\n",
    "# Log Scale\n",
    "bp2 = ax2.boxplot(data, labels=['Normal', 'Fraud'], patch_artist=True)\n",
    "ax2.set_yscale('log')\n",
    "ax2.set_title('Transaction Amount by Class\\n(Log Scale)', fontsize=12)\n",
    "ax2.set_ylabel('Amount (log scale)')\n",
    "ax2.grid(True, linestyle='--', alpha=0.7)\n",
    "plt.setp(bp2['boxes'][0], facecolor='lightsteelblue')\n",
    "plt.setp(bp2['boxes'][1], facecolor='lightcoral')\n",
    "plt.setp(bp2['medians'], color='red', linewidth=1.5)\n",
    "\n",
    "plt.tight_layout()\n",
    "plt.show()\n",
    "\n",
    "# Print statistics\n",
    "print(\"\\n=== Amount Statistics by Transaction Class ===\")\n",
    "print(\"\\nNormal Transactions:\")\n",
    "print(normal_amounts.describe().round(2))\n",
    "print(\"\\nFraudulent Transactions:\")\n",
    "print(fraud_amounts.describe().round(2))\n"
   ]
  },
  {
   "cell_type": "code",
   "execution_count": null,
   "metadata": {},
   "outputs": [],
   "source": [
    "'''Normal Scale (선형 스케일)\n",
    "데이터를 있는 그대로의 값으로 표현\n",
    "일정한 간격으로 눈금이 표시됨 (예: 0, 100, 200, 300, ...)\n",
    "장점: 직관적이고 실제 값을 바로 파악 가능\n",
    "단점: 값의 범위가 매우 클 경우 작은 값들의 차이를 구분하기 어려움\n",
    "Log Scale (로그 스케일)\n",
    "데이터를 로그 변환하여 표현\n",
    "지수적으로 눈금이 증가 (예: 1, 10, 100, 1000, ...)\n",
    "장점:\n",
    "매우 큰 값과 작은 값을 한 그래프에서 효과적으로 표현 가능\n",
    "상대적 변화(비율)를 쉽게 파악 가능\n",
    "단점: 실제 값을 직접적으로 읽기 어려움'''"
   ]
  },
  {
   "cell_type": "markdown",
   "metadata": {},
   "source": [
    "### 거래 유형별 사기 발생률 비교"
   ]
  },
  {
   "cell_type": "code",
   "execution_count": null,
   "metadata": {},
   "outputs": [],
   "source": [
    "# MerchantID별 사기 거래 건수 계산\n",
    "fraudByMerchant = fraud['MerchantID'].value_counts()\n",
    "\n",
    "# 상위 10개 사기 다발 거래 유형 출력\n",
    "print(\"\\n=== Top 10 Merchant Types with Most Fraud Transactions ===\")\n",
    "print(\"\\nMerchant Type | Number of Frauds\")\n",
    "print(\"-\" * 40)\n",
    "for merchant, count in fraudByMerchant.head(10).items():\n",
    "    print(f\"MerchantID {merchant}: {count}\")\n",
    "\n",
    "# 시각화\n",
    "plt.figure(figsize=(12, 6))\n",
    "fraudByMerchant.head(10).plot(kind='bar')\n",
    "plt.title('Top 10 Merchant Types by Fraud Transactions')\n",
    "plt.xlabel('MerchantID')\n",
    "plt.ylabel('Number of Fraud Transactions')\n",
    "plt.xticks(rotation=45)\n",
    "plt.grid(True)\n",
    "plt.show()\n",
    "\n",
    "# 전체 거래 대비 사기 거래 비율 계산\n",
    "total_by_merchant = orgDf['MerchantID'].value_counts()\n",
    "fraud_rate_by_merchant = (fraudByMerchant / total_by_merchant * 100).round(2)\n",
    "\n",
    "print(\"\\n=== Top 10 Merchant Types by Fraud Rate ===\")\n",
    "print(\"\\nMerchant Type | Fraud Rate (%)\")\n",
    "print(\"-\" * 40)\n",
    "for merchant, rate in fraud_rate_by_merchant.sort_values(ascending=False).head(10).items():\n",
    "    print(f\"MerchantID {merchant}: {rate}%\")\n"
   ]
  },
  {
   "cell_type": "markdown",
   "metadata": {},
   "source": [
    "### 사기 거래가 자주 발생하는 지역 및 시간대 식별"
   ]
  },
  {
   "cell_type": "code",
   "execution_count": null,
   "metadata": {},
   "outputs": [],
   "source": [
    "# TransactionDate에서 시간 추출 (시간별 분석)\n",
    "fraud['Hour'] = pd.to_datetime(fraud['TransactionDate']).dt.hour\n",
    "\n",
    "# 시간별 사기 거래 건수 계산\n",
    "fraudByHour = fraud['Hour'].value_counts().sort_index()\n",
    "\n",
    "# 가장 많은 사기가 발생한 시간 찾기\n",
    "peakHour = fraudByHour.idxmax()\n",
    "peakCount = fraudByHour.max()\n",
    "print(f\"사기 거래가 가장 많이 발생한 시간: {peakHour}시\")\n",
    "print(f\"해당 시간대의 사기 거래 건수: {peakCount}건\")\n",
    "\n",
    "# 요일별 분석\n",
    "fraud['DayOfWeek'] = pd.to_datetime(fraud['TransactionDate']).dt.day_name()\n",
    "fraudByDay = fraud['DayOfWeek'].value_counts()\n",
    "\n",
    "print(\"\\n요일별 사기 거래 건수:\")\n",
    "print(fraudByDay)\n",
    "\n",
    "# 월별 분석\n",
    "fraud['Month'] = pd.to_datetime(fraud['TransactionDate']).dt.month\n",
    "fraudByMonth = fraud['Month'].value_counts().sort_index()\n",
    "\n",
    "print(\"\\n월별 사기 거래 건수:\")\n",
    "print(fraudByMonth)\n"
   ]
  },
  {
   "cell_type": "code",
   "execution_count": null,
   "metadata": {},
   "outputs": [],
   "source": [
    "import matplotlib.pyplot as plt\n",
    "import seaborn as sns\n",
    "\n",
    "# 서브플롯 설정\n",
    "fig, (ax1, ax2, ax3) = plt.subplots(1, 3, figsize=(20, 6))\n",
    "\n",
    "# 1. 시간별 사기 거래 시각화\n",
    "fraudByHour.plot(kind='bar', ax=ax1, color='skyblue')\n",
    "ax1.set_title('Fraud Transactions by Hour')\n",
    "ax1.set_xlabel('Hour')\n",
    "ax1.set_ylabel('Number of Frauds')\n",
    "ax1.grid(True)\n",
    "\n",
    "# 최대값 표시\n",
    "ax1.text(peakHour, peakCount, f'{peakCount}', \n",
    "         ha='center', va='bottom')\n",
    "\n",
    "# 2. 요일별 사기 거래 시각화\n",
    "fraudByDay.plot(kind='bar', ax=ax2, color='lightgreen')\n",
    "ax2.set_title('Fraud Transactions by Day')\n",
    "ax2.set_xlabel('Day of Week')\n",
    "ax2.set_ylabel('Number of Frauds')\n",
    "ax2.grid(True)\n",
    "\n",
    "# 최대값 표시\n",
    "max_day = fraudByDay.max()\n",
    "max_day_idx = fraudByDay.idxmax()\n",
    "ax2.text(fraudByDay.index.get_loc(max_day_idx), max_day, \n",
    "         f'{max_day}', ha='center', va='bottom')\n",
    "\n",
    "# 3. 월별 사기 거래 시각화\n",
    "fraudByMonth.plot(kind='bar', ax=ax3, color='salmon')\n",
    "ax3.set_title('Fraud Transactions by Month')\n",
    "ax3.set_xlabel('Month')\n",
    "ax3.set_ylabel('Number of Frauds')\n",
    "ax3.grid(True)\n",
    "\n",
    "# 최대값 표시\n",
    "max_month = fraudByMonth.max()\n",
    "max_month_idx = fraudByMonth.idxmax()\n",
    "ax3.text(fraudByMonth.index.get_loc(max_month_idx), max_month, \n",
    "         f'{max_month}', ha='center', va='bottom')\n",
    "\n",
    "# 전체 레이아웃 조정\n",
    "plt.tight_layout()\n",
    "plt.show()\n",
    "\n",
    "# 히트맵으로 시간대와 요일의 관계 시각화\n",
    "pivot_table = pd.crosstab(\n",
    "    pd.to_datetime(fraud['TransactionDate']).dt.hour,\n",
    "    pd.to_datetime(fraud['TransactionDate']).dt.day_name()\n",
    ")\n",
    "\n",
    "plt.figure(figsize=(12, 8))\n",
    "sns.heatmap(pivot_table, cmap='YlOrRd', annot=True, fmt='d')\n",
    "plt.title('Fraud Transactions Heatmap (Hour vs Day)')\n",
    "plt.xlabel('Day of Week')\n",
    "plt.ylabel('Hour')\n",
    "plt.show()\n"
   ]
  }
 ],
 "metadata": {
  "kernelspec": {
   "display_name": "Python 3",
   "language": "python",
   "name": "python3"
  },
  "language_info": {
   "codemirror_mode": {
    "name": "ipython",
    "version": 3
   },
   "file_extension": ".py",
   "mimetype": "text/x-python",
   "name": "python",
   "nbconvert_exporter": "python",
   "pygments_lexer": "ipython3",
   "version": "3.11.11"
  }
 },
 "nbformat": 4,
 "nbformat_minor": 2
}
